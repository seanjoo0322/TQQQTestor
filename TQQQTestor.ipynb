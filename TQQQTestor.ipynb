{
 "cells": [
  {
   "cell_type": "code",
   "execution_count": 1,
   "metadata": {},
   "outputs": [],
   "source": [
    "import pandas as pd\n",
    "import numpy as np"
   ]
  },
  {
   "cell_type": "code",
   "execution_count": 2,
   "metadata": {},
   "outputs": [],
   "source": [
    "##Is it possible to earn money by buying sqqq if tqqq rises for 3 consecutive days?##"
   ]
  },
  {
   "cell_type": "code",
   "execution_count": 3,
   "metadata": {},
   "outputs": [],
   "source": [
    "year1= pd.read_csv(\"1 year tqqq.csv\")\n",
    "year5 = pd.read_csv(\"1 year tqqq.csv\")\n",
    "\n",
    "#Options\n",
    "#1 year tqqq.csv\n",
    "#5 years tqqq.csv\n",
    "#tqqq.csv\n",
    "#QQQ.csv"
   ]
  },
  {
   "cell_type": "code",
   "execution_count": 4,
   "metadata": {},
   "outputs": [],
   "source": [
    "#Adjustments\n",
    "year1 = year1[['Date','Open','Close']]\n",
    "year5 = year5[['Date','Open','Close']]"
   ]
  },
  {
   "cell_type": "code",
   "execution_count": 5,
   "metadata": {},
   "outputs": [],
   "source": [
    "year1['Value'] = year1['Close']- year1['Open']\n",
    "year5['Value'] = year5['Close']- year5['Open']"
   ]
  },
  {
   "cell_type": "code",
   "execution_count": 6,
   "metadata": {},
   "outputs": [],
   "source": [
    "#Converting to python date \n",
    "year1['Date'] = pd.to_datetime(year1['Date'])\n",
    "year5['Date'] = pd.to_datetime(year5['Date'])"
   ]
  },
  {
   "cell_type": "code",
   "execution_count": 7,
   "metadata": {},
   "outputs": [],
   "source": [
    "year1['Positive'] = year1['Value'] >= 0\n",
    "year1['Negative'] = year1['Value'] < 0\n",
    "window = year1['Positive'].rolling(4)\n"
   ]
  },
  {
   "cell_type": "code",
   "execution_count": 8,
   "metadata": {},
   "outputs": [],
   "source": [
    "##3 consecutive case##\n",
    "#Error Case: Negative Negative\n",
    "count = 0\n",
    "for i in range(len(year1) - 3):  # Subtract 3 to avoid going out of bounds\n",
    "    if year1['Negative'].iloc[i] and year1['Negative'].iloc[i+1] and year1['Negative'].iloc[i+2] and year1['Negative'].iloc[i+3]:\n",
    "        count += 1\n",
    "\n",
    "error2 = count\n",
    "\n",
    "\n",
    "#Positive Case: Positive Negative\n",
    "count = 0\n",
    "for i in range(len(year1) - 3):  # Subtract 3 to avoid going out of bounds\n",
    "    if year1['Positive'].iloc[i] and year1['Positive'].iloc[i+1] and year1['Positive'].iloc[i+2] and year1['Negative'].iloc[i+3]:\n",
    "        count += 1\n",
    "true2 = count\n",
    "\n",
    "\n",
    "#Positive Case: Negative Postive\n",
    "count = 0\n",
    "for i in range(len(year1) - 3):  # Subtract 3 to avoid going out of bounds\n",
    "    if year1['Negative'].iloc[i] and year1['Negative'].iloc[i+1] and year1['Negative'].iloc[i+2] and year1['Positive'].iloc[i+3]:\n",
    "        count += 1\n",
    "\n",
    "true1 = count\n",
    "    \n",
    "#Error Case: Positive Positive\n",
    "count = 0\n",
    "for i in range(len(year1) - 3):  # Subtract 3 to avoid going out of bounds\n",
    "    if year1['Positive'].iloc[i] and year1['Positive'].iloc[i+1] and year1['Positive'].iloc[i+2] and year1['Positive'].iloc[i+3]:\n",
    "        count += 1\n",
    "\n",
    "error1 = count"
   ]
  },
  {
   "cell_type": "code",
   "execution_count": 9,
   "metadata": {},
   "outputs": [
    {
     "data": {
      "text/plain": [
       "52.23880597014925"
      ]
     },
     "execution_count": 9,
     "metadata": {},
     "output_type": "execute_result"
    }
   ],
   "source": [
    "#Calculating probability\n",
    "a= (true1+true2)\n",
    "three = a/(a+error1+error2)*100\n",
    "three"
   ]
  },
  {
   "cell_type": "code",
   "execution_count": 10,
   "metadata": {},
   "outputs": [],
   "source": [
    "##4 consecutive case##\n",
    "#Error Case: Negative Negative\n",
    "count = 0\n",
    "for i in range(len(year1) - 4):  # Subtract 3 to avoid going out of bounds\n",
    "    if year1['Negative'].iloc[i] and year1['Negative'].iloc[i+1] and year1['Negative'].iloc[i+2] and year1['Negative'].iloc[i+3] and year1['Negative'].iloc[i+4]:\n",
    "        count += 1\n",
    "\n",
    "error2 = count\n",
    "\n",
    "\n",
    "#Positive Case: Positive Negative\n",
    "count = 0\n",
    "for i in range(len(year1) - 3):  # Subtract 3 to avoid going out of bounds\n",
    "    if year1['Positive'].iloc[i] and year1['Positive'].iloc[i+1] and year1['Positive'].iloc[i+2] and year1['Positive'].iloc[i+3] and year1['Negative'].iloc[i+4]:\n",
    "        count += 1\n",
    "true2 = count\n",
    "\n",
    "\n",
    "#Positive Case: Negative Postive\n",
    "count = 0\n",
    "for i in range(len(year1) - 3):  # Subtract 3 to avoid going out of bounds\n",
    "    if year1['Negative'].iloc[i] and year1['Negative'].iloc[i+1] and year1['Negative'].iloc[i+2] and year1['Negative'].iloc[i+3] and year1['Positive'].iloc[i+4]:\n",
    "        count += 1\n",
    "\n",
    "true1 = count\n",
    "    \n",
    "#Error Case: Positive Positive\n",
    "count = 0\n",
    "for i in range(len(year1) - 3):  # Subtract 3 to avoid going out of bounds\n",
    "    if year1['Positive'].iloc[i] and year1['Positive'].iloc[i+1] and year1['Positive'].iloc[i+2] and year1['Positive'].iloc[i+3] and year1['Positive'].iloc[i+4]:\n",
    "        count += 1\n",
    "\n",
    "error1 = count"
   ]
  },
  {
   "cell_type": "code",
   "execution_count": 11,
   "metadata": {},
   "outputs": [],
   "source": [
    "#Calculation\n",
    "a= (true1+true2)\n",
    "four = a/(a+error1+error2)*100"
   ]
  },
  {
   "cell_type": "code",
   "execution_count": 12,
   "metadata": {},
   "outputs": [],
   "source": [
    "##2 consecutive case##\n",
    "#Error Case: Negative Negative\n",
    "count = 0\n",
    "for i in range(len(year1) - 2):  # Subtract 3 to avoid going out of bounds\n",
    "    if year1['Negative'].iloc[i] and year1['Negative'].iloc[i+1] and year1['Negative'].iloc[i+2]:\n",
    "        count += 1\n",
    "\n",
    "error2 = count\n",
    "\n",
    "\n",
    "#Positive Case: Positive Negative\n",
    "count = 0\n",
    "for i in range(len(year1) - 2):  # Subtract 3 to avoid going out of bounds\n",
    "    if year1['Positive'].iloc[i] and year1['Positive'].iloc[i+1] and year1['Negative'].iloc[i+2]:\n",
    "        count += 1\n",
    "true2 = count\n",
    "\n",
    "\n",
    "#Positive Case: Negative Postive\n",
    "count = 0\n",
    "for i in range(len(year1) - 2):  # Subtract 3 to avoid going out of bounds\n",
    "    if year1['Negative'].iloc[i] and year1['Negative'].iloc[i+1] and year1['Positive'].iloc[i+2]:\n",
    "        count += 1\n",
    "\n",
    "true1 = count\n",
    "    \n",
    "#Error Case: Positive Positive\n",
    "count = 0\n",
    "for i in range(len(year1) - 2):  # Subtract 3 to avoid going out of bounds\n",
    "    if year1['Positive'].iloc[i] and year1['Positive'].iloc[i+1] and year1['Positive'].iloc[i+2]:\n",
    "        count += 1\n",
    "\n",
    "error1 = count"
   ]
  },
  {
   "cell_type": "code",
   "execution_count": 13,
   "metadata": {},
   "outputs": [],
   "source": [
    "#Calculation\n",
    "a= (true1+true2)\n",
    "two = a/(a+error1+error2)*100"
   ]
  },
  {
   "cell_type": "code",
   "execution_count": 14,
   "metadata": {},
   "outputs": [
    {
     "name": "stdout",
     "output_type": "stream",
     "text": [
      "Four:  53.125\n",
      "Three:  52.23880597014925\n",
      "Two:  49.62406015037594\n"
     ]
    }
   ],
   "source": [
    "#Calculating probability\n",
    "print(\"Four: \",four)\n",
    "print(\"Three: \", three)\n",
    "print(\"Two: \", two)"
   ]
  },
  {
   "cell_type": "code",
   "execution_count": 15,
   "metadata": {},
   "outputs": [],
   "source": [
    "#Conclusion\n",
    "#It is hard to find a significant data that shows that this trick works"
   ]
  },
  {
   "cell_type": "markdown",
   "metadata": {},
   "source": []
  }
 ],
 "metadata": {
  "kernelspec": {
   "display_name": "SeanKernel",
   "language": "python",
   "name": "seankernel"
  },
  "language_info": {
   "codemirror_mode": {
    "name": "ipython",
    "version": 3
   },
   "file_extension": ".py",
   "mimetype": "text/x-python",
   "name": "python",
   "nbconvert_exporter": "python",
   "pygments_lexer": "ipython3",
   "version": "3.7.16"
  },
  "orig_nbformat": 4
 },
 "nbformat": 4,
 "nbformat_minor": 2
}
